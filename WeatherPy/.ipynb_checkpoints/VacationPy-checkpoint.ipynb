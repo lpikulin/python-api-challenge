{
 "cells": [
  {
   "cell_type": "markdown",
   "metadata": {},
   "source": [
    "# VacationPy\n",
    "----\n",
    "\n",
    "#### Note\n",
    "* Instructions have been included for each segment. You do not have to follow them exactly, but they are included to help you think through the steps."
   ]
  },
  {
   "cell_type": "code",
   "execution_count": 1,
   "metadata": {},
   "outputs": [],
   "source": [
    "# Dependencies and Setup\n",
    "import matplotlib.pyplot as plt\n",
    "import pandas as pd\n",
    "import numpy as np\n",
    "import requests\n",
    "import gmaps\n",
    "import os\n",
    "from pprint import pprint\n",
    "from citipy import citipy\n",
    "\n",
    "# Import API key\n",
    "from api_keys import g_key"
   ]
  },
  {
   "cell_type": "markdown",
   "metadata": {},
   "source": [
    "### Store Part I results into DataFrame\n",
    "* Load the csv exported in Part I to a DataFrame"
   ]
  },
  {
   "cell_type": "code",
   "execution_count": 2,
   "metadata": {},
   "outputs": [],
   "source": [
    "weather_df=pd.read_csv('weather.csv')\n"
   ]
  },
  {
   "cell_type": "markdown",
   "metadata": {},
   "source": [
    "### Humidity Heatmap\n",
    "* Configure gmaps.\n",
    "* Use the Lat and Lng as locations and Humidity as the weight.\n",
    "* Add Heatmap layer to map."
   ]
  },
  {
   "cell_type": "code",
   "execution_count": 3,
   "metadata": {},
   "outputs": [
    {
     "data": {
      "text/html": [
       "<div>\n",
       "<style scoped>\n",
       "    .dataframe tbody tr th:only-of-type {\n",
       "        vertical-align: middle;\n",
       "    }\n",
       "\n",
       "    .dataframe tbody tr th {\n",
       "        vertical-align: top;\n",
       "    }\n",
       "\n",
       "    .dataframe thead th {\n",
       "        text-align: right;\n",
       "    }\n",
       "</style>\n",
       "<table border=\"1\" class=\"dataframe\">\n",
       "  <thead>\n",
       "    <tr style=\"text-align: right;\">\n",
       "      <th></th>\n",
       "      <th>city</th>\n",
       "      <th>lat</th>\n",
       "      <th>long</th>\n",
       "      <th>temp</th>\n",
       "      <th>clouds</th>\n",
       "      <th>humid</th>\n",
       "      <th>wind</th>\n",
       "      <th>humidity</th>\n",
       "    </tr>\n",
       "  </thead>\n",
       "  <tbody>\n",
       "    <tr>\n",
       "      <th>0</th>\n",
       "      <td>jamestown</td>\n",
       "      <td>42.10</td>\n",
       "      <td>-79.24</td>\n",
       "      <td>77.32</td>\n",
       "      <td>1.0</td>\n",
       "      <td>50.0</td>\n",
       "      <td>13.87</td>\n",
       "      <td>50.0</td>\n",
       "    </tr>\n",
       "    <tr>\n",
       "      <th>1</th>\n",
       "      <td>paamiut</td>\n",
       "      <td>61.99</td>\n",
       "      <td>-49.67</td>\n",
       "      <td>46.15</td>\n",
       "      <td>99.0</td>\n",
       "      <td>79.0</td>\n",
       "      <td>2.10</td>\n",
       "      <td>79.0</td>\n",
       "    </tr>\n",
       "    <tr>\n",
       "      <th>2</th>\n",
       "      <td>la reforma</td>\n",
       "      <td>25.08</td>\n",
       "      <td>-108.05</td>\n",
       "      <td>91.00</td>\n",
       "      <td>10.0</td>\n",
       "      <td>64.0</td>\n",
       "      <td>8.01</td>\n",
       "      <td>64.0</td>\n",
       "    </tr>\n",
       "    <tr>\n",
       "      <th>3</th>\n",
       "      <td>bengkulu</td>\n",
       "      <td>-3.80</td>\n",
       "      <td>102.27</td>\n",
       "      <td>75.70</td>\n",
       "      <td>69.0</td>\n",
       "      <td>88.0</td>\n",
       "      <td>5.41</td>\n",
       "      <td>88.0</td>\n",
       "    </tr>\n",
       "    <tr>\n",
       "      <th>4</th>\n",
       "      <td>palmer</td>\n",
       "      <td>42.16</td>\n",
       "      <td>-72.33</td>\n",
       "      <td>88.63</td>\n",
       "      <td>40.0</td>\n",
       "      <td>41.0</td>\n",
       "      <td>10.29</td>\n",
       "      <td>41.0</td>\n",
       "    </tr>\n",
       "  </tbody>\n",
       "</table>\n",
       "</div>"
      ],
      "text/plain": [
       "         city    lat    long   temp  clouds  humid   wind  humidity\n",
       "0   jamestown  42.10  -79.24  77.32     1.0   50.0  13.87      50.0\n",
       "1     paamiut  61.99  -49.67  46.15    99.0   79.0   2.10      79.0\n",
       "2  la reforma  25.08 -108.05  91.00    10.0   64.0   8.01      64.0\n",
       "3    bengkulu  -3.80  102.27  75.70    69.0   88.0   5.41      88.0\n",
       "4      palmer  42.16  -72.33  88.63    40.0   41.0  10.29      41.0"
      ]
     },
     "execution_count": 3,
     "metadata": {},
     "output_type": "execute_result"
    }
   ],
   "source": [
    "weather_df.dropna(inplace = True)\n",
    "weather_df.head(5)"
   ]
  },
  {
   "cell_type": "code",
   "execution_count": 4,
   "metadata": {},
   "outputs": [
    {
     "name": "stdout",
     "output_type": "stream",
     "text": [
      "the latitude length is:548\n",
      "the longitude length is:548\n",
      "the locations length is:548\n",
      "the humidity length is:548\n"
     ]
    }
   ],
   "source": [
    "lat=weather_df[\"lat\"].astype(float)\n",
    "long=weather_df[\"long\"].astype(float)\n",
    "locations=weather_df[[\"lat\",\"long\"]]\n",
    "print(f\"the latitude length is:{len(lat)}\")\n",
    "print(f\"the longitude length is:{len(long)}\")\n",
    "print(f\"the locations length is:{len(locations)}\")\n",
    "humidity=weather_df[\"humidity\"].astype(float)\n",
    "print(f\"the humidity length is:{len(humidity)}\")\n"
   ]
  },
  {
   "cell_type": "code",
   "execution_count": 5,
   "metadata": {
    "scrolled": true
   },
   "outputs": [
    {
     "data": {
      "application/vnd.jupyter.widget-view+json": {
       "model_id": "f645bd5c9fc74ee9b19d51fc21041790",
       "version_major": 2,
       "version_minor": 0
      },
      "text/plain": [
       "Figure(layout=FigureLayout(height='420px'))"
      ]
     },
     "metadata": {},
     "output_type": "display_data"
    }
   ],
   "source": [
    "# Create heat layer\n",
    "gmaps.configure(api_key=g_key)\n",
    "\n",
    "\n",
    "fig = gmaps.figure(zoom_level=2,center=(0,0))\n",
    "\n",
    "# Create heat layer\n",
    "heat_layer = gmaps.heatmap_layer(locations, weights=humidity, \n",
    "                                 dissipating=False, max_intensity=1,\n",
    "                                 point_radius=1)\n",
    "\n",
    "\n",
    "# Add layer\n",
    "fig.add_layer(heat_layer)\n",
    "\n",
    "\n",
    "fig"
   ]
  },
  {
   "cell_type": "markdown",
   "metadata": {},
   "source": [
    "### Create new DataFrame fitting weather criteria\n",
    "* Narrow down the cities to fit weather conditions.\n",
    "* Drop any rows will null values."
   ]
  },
  {
   "cell_type": "code",
   "execution_count": 6,
   "metadata": {},
   "outputs": [
    {
     "name": "stdout",
     "output_type": "stream",
     "text": [
      "                  city    lat    long   temp  clouds  humid  wind  humidity\n",
      "135           cururupu  -1.83  -44.87  74.39    24.0   87.0  1.50      87.0\n",
      "212              edson  53.58 -116.44  75.20    20.0   31.0  4.70      31.0\n",
      "255         georgetown   5.41  100.34  77.00    20.0   94.0  2.24      94.0\n",
      "355           aripuana  -9.17  -60.63  79.54    19.0   48.0  1.79      48.0\n",
      "437            paducah  37.08  -88.60  75.18    20.0   78.0  4.70      78.0\n",
      "444             maceio  -9.67  -35.74  71.60    20.0   88.0  4.70      88.0\n",
      "513  riachao das neves -11.75  -44.91  70.88    19.0   44.0  2.66      44.0\n",
      "522            xinqing  48.23  129.50  66.60    25.0   82.0  4.74      82.0\n",
      "563            bintulu   3.17  113.03  75.09    20.0  100.0  2.24     100.0\n"
     ]
    }
   ],
   "source": [
    "limit=weather_df.loc[((weather_df['temp']>65) & (weather_df['temp']<80) & \n",
    "                      (weather_df['wind']<5) & (weather_df['clouds']<30) & \n",
    "                      (weather_df['clouds']>15))]\n",
    "print(limit)"
   ]
  },
  {
   "cell_type": "markdown",
   "metadata": {},
   "source": [
    "### Hotel Map\n",
    "* Store into variable named `hotel_df`.\n",
    "* Add a \"Hotel Name\" column to the DataFrame.\n",
    "* Set parameters to search for hotels with 5000 meters.\n",
    "* Hit the Google Places API for each city's coordinates.\n",
    "* Store the first Hotel result into the DataFrame.\n",
    "* Plot markers on top of the heatmap."
   ]
  },
  {
   "cell_type": "code",
   "execution_count": 35,
   "metadata": {},
   "outputs": [
    {
     "name": "stdout",
     "output_type": "stream",
     "text": [
      "('-9.17', '-60.63') not found.\n",
      "('48.23', '129.5') not found.\n",
      "[\"Pousada Través'cia\", 'Holiday Inn Express & Suites Edson', 'Cititel Penang', 'NaN', 'Holiday Inn Paducah Riverfront', 'Mercure Maceio Pajucara Hotel', 'Casa de vó Dina', 'NaN', '900 Boutique INN']\n",
      "[-1.8266915, 53.5849685, 5.4212317, 'NaN', 37.0923537, -9.6683986, -11.7489867, 'NaN', 3.1959856]\n",
      "[-44.86922690000001, -116.4202695, 100.3331044, 'NaN', -88.6011797, -35.714365, -44.9103532, 'NaN', 113.0457382]\n",
      "['54FJ+88 Cururupu, State of Maranhão, Brazil', 'HHMH+XV Edson, AB, Canada', 'C8CM+F6 George Town, Penang, Malaysia', 'NaN', '39RX+WG Paducah, KY, USA', '87JP+J7 Pajuçara, Maceió - State of Alagoas, Brazil', '732Q+CV Riachão das Neves, State of Bahia, Brazil', 'NaN', '52WW+97 Fortune Park Commercial Centre, Bintulu, Sarawak, Malaysia']\n"
     ]
    }
   ],
   "source": [
    "lats=limit['lat'].astype(str)\n",
    "lngs=limit['long'].astype(str)\n",
    "lat_lngs = zip(lats, lngs)\n",
    "target_type=\"lodging\"\n",
    "radius=5000\n",
    "hotels=[]\n",
    "hot_lat=[]\n",
    "hot_long=[]\n",
    "city_country=[]\n",
    "\n",
    "#for loc in locations:\n",
    "for lat_lng in lat_lngs:\n",
    "    try:\n",
    "        locations=lat_lng[0]+\",\"+lat_lng[1]     \n",
    "        params={\n",
    "            \"location\": locations,\n",
    "            \"types\":target_type,\n",
    "            \"radius\":radius,\n",
    "            \"key\":g_key}\n",
    "        base_url=\"https://maps.googleapis.com/maps/api/place/nearbysearch/json\"\n",
    "        response=requests.get(base_url,params)\n",
    "        #print(response.url)\n",
    "\n",
    "        answer=response.json()\n",
    "        #pprint(answer[\"results\"][0])\n",
    "    \n",
    "        hotels.append(answer[\"results\"][0][\"name\"])\n",
    "        hot_lat.append(answer[\"results\"][0]['geometry']['location']['lat'])\n",
    "        hot_long.append(answer[\"results\"][0]['geometry']['location']['lng'])\n",
    "        city_country.append(answer[\"results\"][0]['plus_code']['compound_code'])\n",
    "    except:\n",
    "        hotels.append('NaN')\n",
    "        hot_lat.append('NaN')\n",
    "        hot_long.append('NaN')\n",
    "        city_country.append('NaN')\n",
    "\n",
    "        print (f\"{lat_lng} not found.\")\n",
    "\n",
    "print(hotels)\n",
    "print(hot_lat)\n",
    "print(hot_long)\n",
    "print(city_country)\n"
   ]
  },
  {
   "cell_type": "code",
   "execution_count": 38,
   "metadata": {},
   "outputs": [],
   "source": [
    "hotel_dict={\"name\":hotels,\n",
    "             \"city_country\":city_country,\n",
    "             \"Lat\":hot_lat,\n",
    "             \"Lng\":hot_long,\n",
    "             \"city\":city_country,\n",
    "             \"country\":city_country}\n",
    "new_df=pd.DataFrame(hotel_dict)\n",
    "\n",
    "new_df=new_df[new_df['name']!=\"NaN\"]\n",
    "#print(hotel_df)\n",
    "\n"
   ]
  },
  {
   "cell_type": "code",
   "execution_count": 51,
   "metadata": {},
   "outputs": [
    {
     "name": "stdout",
     "output_type": "stream",
     "text": [
      "                           Hotel Name      City   Country      Lat      Lng\n",
      "0                  Pousada Través'cia  Cururupu    Brazil -1.82669 -44.8692\n",
      "1  Holiday Inn Express & Suites Edson     Edson    Canada   53.585  -116.42\n",
      "2                      Cititel Penang    George  Malaysia  5.42123  100.333\n",
      "4      Holiday Inn Paducah Riverfront   Paducah       USA  37.0924 -88.6012\n",
      "5       Mercure Maceio Pajucara Hotel  Pajuçara    Brazil  -9.6684 -35.7144\n",
      "6                     Casa de vó Dina   Riachão    Brazil  -11.749 -44.9104\n",
      "8                    900 Boutique INN   Fortune   Sarawak  3.19599  113.046\n"
     ]
    }
   ],
   "source": [
    "#data[\"Team\"]= data[\"Team\"].str.split(\"t\", n = 1, expand = True) \n",
    "#hotel_df['city']=hotel_df['city'].split(\" \",n=1,expand=True)\n",
    "#print(hotel_df)\n",
    "City=[]\n",
    "Country=[]\n",
    "\n",
    "locs=new_df['city_country']\n",
    "name=new_df['name']\n",
    "Lat=new_df['Lat']\n",
    "Lng=new_df['Lng']\n",
    "\n",
    "for loc in locs:\n",
    "    City.append(loc.split(\" \")[1].split(\",\")[0])\n",
    "    Country.append(loc.rsplit(\",\")[2].strip())\n",
    "\n",
    "new_dict={\"Hotel Name\":name,\n",
    "         \"City\":City,\n",
    "         \"Country\":Country,\n",
    "         \"Lat\":Lat,\n",
    "         \"Lng\":Lng}\n",
    "hotel_df=pd.DataFrame(new_dict)\n",
    "print(hotel_df)"
   ]
  },
  {
   "cell_type": "code",
   "execution_count": 52,
   "metadata": {},
   "outputs": [],
   "source": [
    "# NOTE: Do not change any of the code in this cell\n",
    "\n",
    "# Using the template add the hotel marks to the heatmap\n",
    "info_box_template = \"\"\"\n",
    "<dl>\n",
    "<dt>Name</dt><dd>{Hotel Name}</dd>\n",
    "<dt>City</dt><dd>{City}</dd>\n",
    "<dt>Country</dt><dd>{Country}</dd>\n",
    "</dl>\n",
    "\"\"\"\n",
    "# Store the DataFrame Row\n",
    "# NOTE: be sure to update with your DataFrame name\n",
    "hotel_info = [info_box_template.format(**row) for index, row in hotel_df.iterrows()]\n",
    "locations = hotel_df[[\"Lat\", \"Lng\"]]"
   ]
  },
  {
   "cell_type": "code",
   "execution_count": 54,
   "metadata": {},
   "outputs": [
    {
     "data": {
      "application/vnd.jupyter.widget-view+json": {
       "model_id": "acb5f43357b14fe281c21ac25b72fa94",
       "version_major": 2,
       "version_minor": 0
      },
      "text/plain": [
       "Figure(layout=FigureLayout(height='420px'))"
      ]
     },
     "metadata": {},
     "output_type": "display_data"
    }
   ],
   "source": [
    "# Add marker layer ontop of heat map\n",
    "hotels_layer=gmaps.symbol_layer(\n",
    "    locations, fill_color='blue',\n",
    "    stroke_color='black',scale=2,\n",
    "    info_box_content=hotel_info)\n",
    "fig = gmaps.figure(zoom_level=2,center=(0,0))\n",
    "fig.add_layer(heat_layer)\n",
    "fig.add_layer(hotels_layer)\n",
    "fig\n",
    "# Display figure\n"
   ]
  },
  {
   "cell_type": "code",
   "execution_count": null,
   "metadata": {},
   "outputs": [],
   "source": []
  }
 ],
 "metadata": {
  "kernelspec": {
   "display_name": "Python 3",
   "language": "python",
   "name": "python3"
  },
  "language_info": {
   "codemirror_mode": {
    "name": "ipython",
    "version": 3
   },
   "file_extension": ".py",
   "mimetype": "text/x-python",
   "name": "python",
   "nbconvert_exporter": "python",
   "pygments_lexer": "ipython3",
   "version": "3.7.6"
  },
  "latex_envs": {
   "LaTeX_envs_menu_present": true,
   "autoclose": false,
   "autocomplete": true,
   "bibliofile": "biblio.bib",
   "cite_by": "apalike",
   "current_citInitial": 1,
   "eqLabelWithNumbers": true,
   "eqNumInitial": 1,
   "hotkeys": {
    "equation": "Ctrl-E",
    "itemize": "Ctrl-I"
   },
   "labels_anchors": false,
   "latex_user_defs": false,
   "report_style_numbering": false,
   "user_envs_cfg": false
  }
 },
 "nbformat": 4,
 "nbformat_minor": 2
}
